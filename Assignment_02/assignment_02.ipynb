{
  "nbformat": 4,
  "nbformat_minor": 0,
  "metadata": {
    "colab": {
      "name": "assignment_02.ipynb",
      "provenance": [],
      "authorship_tag": "ABX9TyN/jCM74TRFYZ7s7oiohGgM",
      "include_colab_link": true
    },
    "kernelspec": {
      "name": "python3",
      "display_name": "Python 3"
    },
    "language_info": {
      "name": "python"
    }
  },
  "cells": [
    {
      "cell_type": "markdown",
      "metadata": {
        "id": "view-in-github",
        "colab_type": "text"
      },
      "source": [
        "<a href=\"https://colab.research.google.com/github/akukudala/Akshitha_690/blob/main/assignment_02.ipynb\" target=\"_parent\"><img src=\"https://colab.research.google.com/assets/colab-badge.svg\" alt=\"Open In Colab\"/></a>"
      ]
    },
    {
      "cell_type": "code",
      "execution_count": null,
      "metadata": {
        "id": "WXhBd79u9f51"
      },
      "outputs": [],
      "source": [
        ""
      ]
    },
    {
      "cell_type": "markdown",
      "source": [
        "# Name: Akshitha Kukudala\n",
        "## Assignment - 2"
      ],
      "metadata": {
        "id": "PxppFfGN9guk"
      }
    },
    {
      "cell_type": "markdown",
      "source": [
        "## Accept only the integer values as input"
      ],
      "metadata": {
        "id": "8y84DZYQLrl8"
      }
    },
    {
      "cell_type": "code",
      "source": [
        "all_int = []\n",
        "for i in range(0, 10):\n",
        "    try:\n",
        "      intval = int(input(\"Enter a number   - \"))\n",
        "      all_int.append(intval)\n",
        "      print(\"\", intval)\n",
        "    except ValueError:\n",
        "      print(\"Only integer values are accepted\")"
      ],
      "metadata": {
        "colab": {
          "base_uri": "https://localhost:8080/"
        },
        "id": "PFzMrEeA9632",
        "outputId": "e8fa2856-9aa8-4b7f-b4b6-60ec183f4e31"
      },
      "execution_count": 7,
      "outputs": [
        {
          "output_type": "stream",
          "name": "stdout",
          "text": [
            "Enter a number   - 56\n",
            " 56\n",
            "Enter a number   - 67\n",
            " 67\n",
            "Enter a number   - 4\n",
            " 4\n",
            "Enter a number   - 78\n",
            " 78\n",
            "Enter a number   - 9\n",
            " 9\n",
            "Enter a number   - 8\n",
            " 8\n",
            "Enter a number   - 3\n",
            " 3\n",
            "Enter a number   - 888\n",
            " 888\n",
            "Enter a number   - 12\n",
            " 12\n",
            "Enter a number   - 12\n",
            " 12\n"
          ]
        }
      ]
    },
    {
      "cell_type": "markdown",
      "source": [
        "## Defining the Minimum value function"
      ],
      "metadata": {
        "id": "GIQKAZEVL8ip"
      }
    },
    {
      "cell_type": "code",
      "source": [
        "def minvalfunc(all_int):\n",
        "  minval = all_int[0]\n",
        "  for mi in all_int:\n",
        "    if mi < minval:\n",
        "      minval = mi\n",
        "  print(\"The minimum value is \", minval)\n",
        "  return minval"
      ],
      "metadata": {
        "id": "2idTYF8bA_sz"
      },
      "execution_count": 57,
      "outputs": []
    },
    {
      "cell_type": "markdown",
      "source": [
        "## Defining the Maximum value function"
      ],
      "metadata": {
        "id": "76XV3KUXMUtn"
      }
    },
    {
      "cell_type": "code",
      "source": [
        "def maxvalfunc(all_int):\n",
        "  maxval = all_int[0]\n",
        "  for max in all_int:\n",
        "    if max > maxval:\n",
        "      maxval = max\n",
        "  print (\"The maximum value is \", maxval)\n",
        "  return maxval"
      ],
      "metadata": {
        "id": "tbPwRjRhCT_7"
      },
      "execution_count": 58,
      "outputs": []
    },
    {
      "cell_type": "markdown",
      "source": [
        "## Calling minval, maxval functions and storing the values in variables.\n",
        "## Defining Range val Function"
      ],
      "metadata": {
        "id": "H2A__uUyMcJL"
      }
    },
    {
      "cell_type": "code",
      "source": [
        "minval = minvalfunc(all_int)\n",
        "maxval = maxvalfunc(all_int)\n",
        "\n",
        "def Rangevalfunc(minval, maxval):\n",
        "  Rangeval = maxval - minval\n",
        "  print('Range Value of the given list of numbers is: ',Rangeval)\n",
        "  return Rangeval\n",
        "\n",
        "Rangeval = Rangevalfunc(minval, maxval)\n"
      ],
      "metadata": {
        "colab": {
          "base_uri": "https://localhost:8080/"
        },
        "id": "bQJkQeJ2DNwF",
        "outputId": "80ffaa53-400d-4f8f-b010-b8b530e507a0"
      },
      "execution_count": 59,
      "outputs": [
        {
          "output_type": "stream",
          "name": "stdout",
          "text": [
            "The minimum value is  3\n",
            "The maximum value is  888\n",
            "Range Value of the given list of numbers is:  885\n"
          ]
        }
      ]
    },
    {
      "cell_type": "markdown",
      "source": [
        "## Defining Mean Value function"
      ],
      "metadata": {
        "id": "C14Z15OtM7kf"
      }
    },
    {
      "cell_type": "code",
      "source": [
        "def Meanvalfunc(all_int):\n",
        "  count = 0\n",
        "  for i in all_int:\n",
        "    count=count+i\n",
        "    Meanval = count/len(all_int)\n",
        "  print('Mean value of teh given list of numbers is: ', Meanval)\n",
        "  return Meanval\n",
        "\n",
        "Meanval = Meanvalfunc(all_int)"
      ],
      "metadata": {
        "colab": {
          "base_uri": "https://localhost:8080/"
        },
        "id": "lxvGNfe0DYKf",
        "outputId": "1bea264c-d952-46e2-b1e3-28a52071c451"
      },
      "execution_count": 33,
      "outputs": [
        {
          "output_type": "stream",
          "name": "stdout",
          "text": [
            "Mean value of teh given list of numbers is:  113.7\n"
          ]
        }
      ]
    },
    {
      "cell_type": "markdown",
      "source": [
        "## Defining Variance function"
      ],
      "metadata": {
        "id": "Q0ruqwD9NDpK"
      }
    },
    {
      "cell_type": "code",
      "source": [
        "def variancefunc(all_int):\n",
        "  n = len(all_int)\n",
        "  deviationsval = [(x - Meanval) ** 2 for x in all_int]\n",
        "  varianceval = sum(deviationsval)/n\n",
        "  print(varianceval)\n",
        "  return varianceval\n",
        "varianceval = variancefunc(all_int)"
      ],
      "metadata": {
        "colab": {
          "base_uri": "https://localhost:8080/"
        },
        "id": "EdRGs-SgEc_w",
        "outputId": "4d90e57f-0e34-4f10-90ce-2857b52dfc40"
      },
      "execution_count": 17,
      "outputs": [
        {
          "output_type": "stream",
          "name": "stdout",
          "text": [
            "67343.40999999999\n"
          ]
        },
        {
          "output_type": "execute_result",
          "data": {
            "text/plain": [
              "67343.40999999999"
            ]
          },
          "metadata": {},
          "execution_count": 17
        }
      ]
    },
    {
      "cell_type": "markdown",
      "source": [
        "## Defining Standard Deviation function"
      ],
      "metadata": {
        "id": "QZfCKuiUNINV"
      }
    },
    {
      "cell_type": "code",
      "source": [
        "def stddeviationfuc(varianceval):\n",
        "  StdDeviation = (varianceval ** 0.5)\n",
        "  print(StdDeviation)\n",
        "  return StdDeviation\n",
        "varianceval = variancefunc(all_int)\n",
        "stddeviationfuc(varianceval)"
      ],
      "metadata": {
        "colab": {
          "base_uri": "https://localhost:8080/"
        },
        "id": "sbnWLKwdGmyo",
        "outputId": "a0405eaf-5934-4ec7-9450-35221c92af7c"
      },
      "execution_count": 22,
      "outputs": [
        {
          "output_type": "stream",
          "name": "stdout",
          "text": [
            "67343.40999999999\n",
            "259.50608856055766\n"
          ]
        },
        {
          "output_type": "execute_result",
          "data": {
            "text/plain": [
              "259.50608856055766"
            ]
          },
          "metadata": {},
          "execution_count": 22
        }
      ]
    }
  ]
}
