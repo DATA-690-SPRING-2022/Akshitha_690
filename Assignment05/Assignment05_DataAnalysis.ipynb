{
  "nbformat": 4,
  "nbformat_minor": 0,
  "metadata": {
    "colab": {
      "name": "Assignment05_DataAnalysis.ipynb",
      "provenance": [],
      "authorship_tag": "ABX9TyPtCaGMITPxK0Asg10r3z+M",
      "include_colab_link": true
    },
    "kernelspec": {
      "name": "python3",
      "display_name": "Python 3"
    },
    "language_info": {
      "name": "python"
    }
  },
  "cells": [
    {
      "cell_type": "markdown",
      "metadata": {
        "id": "view-in-github",
        "colab_type": "text"
      },
      "source": [
        "<a href=\"https://colab.research.google.com/github/akukudala/Akshitha_690/blob/main/Assignment05/Assignment05_DataAnalysis.ipynb\" target=\"_parent\"><img src=\"https://colab.research.google.com/assets/colab-badge.svg\" alt=\"Open In Colab\"/></a>"
      ]
    },
    {
      "cell_type": "markdown",
      "source": [
        "## Data Analysis with Python\n",
        "\n",
        "* Name: Akshitha\n",
        "* Date: 3/5/2022\n"
      ],
      "metadata": {
        "id": "wN1g8CMz38JW"
      }
    },
    {
      "cell_type": "markdown",
      "source": [
        "## What is Data Analysis\n"
      ],
      "metadata": {
        "id": "iztVl-NF4d-R"
      }
    },
    {
      "cell_type": "markdown",
      "source": [
        "A process of inspecting, cleansing, transforming and modeling data with the goal of discovering useful information, informing conclusion and supporting decision-making. -- Wikipedia\n",
        "\n",
        "* gathering data\n",
        "* cleaning\n",
        "* transforming"
      ],
      "metadata": {
        "id": "ea7VS79R4ig4"
      }
    },
    {
      "cell_type": "markdown",
      "source": [
        "## Why Python for Data Analysis?"
      ],
      "metadata": {
        "id": "aMIPWUMB4yvw"
      }
    },
    {
      "cell_type": "markdown",
      "source": [
        "* very simple and intuitive to learn\n",
        "* “correct” language\n",
        "* powerful libraries (not just for Data Analysis)\n",
        "* free and open source\n",
        "* amazing community, docs and conferences\n"
      ],
      "metadata": {
        "id": "N_ccjX4o46m4"
      }
    },
    {
      "cell_type": "markdown",
      "source": [
        "## When to choose R?"
      ],
      "metadata": {
        "id": "tKn9pN1h5JOR"
      }
    },
    {
      "cell_type": "markdown",
      "source": [
        "* When R Studio is needed\n",
        "* When dealing with advanced statistical methods\n",
        "* When extreme performance is needed\n"
      ],
      "metadata": {
        "id": "zpxYVKF35Kj_"
      }
    },
    {
      "cell_type": "markdown",
      "source": [
        "## The Data Analysis Process\n"
      ],
      "metadata": {
        "id": "VD4J1hxg5Oko"
      }
    },
    {
      "cell_type": "markdown",
      "source": [
        "* Data Extraction\n",
        "* Data Cleaning\n",
        "* Data Wrangling\n",
        "* Analysis\n",
        "* Action (ML & decision making)"
      ],
      "metadata": {
        "id": "i3cfmonI5WFI"
      }
    },
    {
      "cell_type": "markdown",
      "source": [
        "## Data Analysis\n",
        "## Vs\n",
        "## Data Science\n"
      ],
      "metadata": {
        "id": "gIkSJ45W5fTo"
      }
    },
    {
      "cell_type": "markdown",
      "source": [
        "* Data scientists: Usually have more programming and Math skills\n",
        "\n",
        "* Data Analysts: Creating better reports"
      ],
      "metadata": {
        "id": "kCyCSPxt5mVh"
      }
    },
    {
      "cell_type": "markdown",
      "source": [
        "## And finally, why Python?\n"
      ],
      "metadata": {
        "id": "KvgmRpqe57oo"
      }
    },
    {
      "cell_type": "markdown",
      "source": [
        "* Can work with millions of records without visualizing.\n",
        "* Data Analyst with SQL and Python are better paid"
      ],
      "metadata": {
        "id": "SgiuSfba5_dw"
      }
    }
  ]
}