{
  "nbformat": 4,
  "nbformat_minor": 0,
  "metadata": {
    "colab": {
      "name": "Assignment_Class3.ipynb",
      "provenance": [],
      "collapsed_sections": [],
      "authorship_tag": "ABX9TyMag9fmADp6xXW4M23c/HCb",
      "include_colab_link": true
    },
    "kernelspec": {
      "name": "python3",
      "display_name": "Python 3"
    },
    "language_info": {
      "name": "python"
    }
  },
  "cells": [
    {
      "cell_type": "markdown",
      "metadata": {
        "id": "view-in-github",
        "colab_type": "text"
      },
      "source": [
        "<a href=\"https://colab.research.google.com/github/akukudala/Akshitha_690/blob/main/Assignment_Class3.ipynb\" target=\"_parent\"><img src=\"https://colab.research.google.com/assets/colab-badge.svg\" alt=\"Open In Colab\"/></a>"
      ]
    },
    {
      "cell_type": "code",
      "execution_count": 1,
      "metadata": {
        "colab": {
          "base_uri": "https://localhost:8080/"
        },
        "id": "mWsAD6zdu_gB",
        "outputId": "2f9fbd68-3b78-4d5e-f14f-c403d446df72"
      },
      "outputs": [
        {
          "output_type": "stream",
          "name": "stdout",
          "text": [
            "[5, 10, 'Akshitha', 'Kukudala']\n"
          ]
        }
      ],
      "source": [
        "x=[5,10,\"Akshitha\",\"Kukudala\"]\n",
        "print(x)\n"
      ]
    },
    {
      "cell_type": "code",
      "source": [
        "for a in x:\n",
        "  print(a)\n"
      ],
      "metadata": {
        "colab": {
          "base_uri": "https://localhost:8080/"
        },
        "id": "3OExYB8IxUPZ",
        "outputId": "dff7b667-bb3a-4612-c6f9-7e746c9362a6"
      },
      "execution_count": 18,
      "outputs": [
        {
          "output_type": "stream",
          "name": "stdout",
          "text": [
            "5\n",
            "10\n",
            "Akshitha\n",
            "Kukudala\n"
          ]
        }
      ]
    },
    {
      "cell_type": "code",
      "source": [
        "if 5 in x:\n",
        "  print(\"Part of list\")\n",
        "else:\n",
        "  print(\"not part of list\")"
      ],
      "metadata": {
        "colab": {
          "base_uri": "https://localhost:8080/"
        },
        "id": "05uLIjpnyzD5",
        "outputId": "cab1323c-8584-4ab9-f2ef-4b0aaa6a4781"
      },
      "execution_count": 20,
      "outputs": [
        {
          "output_type": "stream",
          "name": "stdout",
          "text": [
            "Part of list\n"
          ]
        }
      ]
    },
    {
      "cell_type": "code",
      "source": [
        "y=[3,5,7,8,9,66,7,8,3,5]\n",
        "print(y)"
      ],
      "metadata": {
        "colab": {
          "base_uri": "https://localhost:8080/"
        },
        "id": "CP4qeJ5czS9i",
        "outputId": "f8f19f77-d880-45eb-f2bd-03cae96bc889"
      },
      "execution_count": 21,
      "outputs": [
        {
          "output_type": "stream",
          "name": "stdout",
          "text": [
            "[3, 5, 7, 8, 9, 66, 7, 8, 3, 5]\n"
          ]
        }
      ]
    },
    {
      "cell_type": "code",
      "source": [
        "for a in y:\n",
        "  print(a)"
      ],
      "metadata": {
        "colab": {
          "base_uri": "https://localhost:8080/"
        },
        "id": "28CdjyeGzZyJ",
        "outputId": "5f72e593-631a-4c2c-d825-efd5b165c502"
      },
      "execution_count": 22,
      "outputs": [
        {
          "output_type": "stream",
          "name": "stdout",
          "text": [
            "3\n",
            "5\n",
            "7\n",
            "8\n",
            "9\n",
            "66\n",
            "7\n",
            "8\n",
            "3\n",
            "5\n"
          ]
        }
      ]
    },
    {
      "cell_type": "code",
      "source": [
        "for a in y:\n",
        "  print(a, end=\" \")"
      ],
      "metadata": {
        "colab": {
          "base_uri": "https://localhost:8080/"
        },
        "id": "2Xjx3nFvzkZB",
        "outputId": "9d88a603-9fa0-4657-9003-845236b078b3"
      },
      "execution_count": 25,
      "outputs": [
        {
          "output_type": "stream",
          "name": "stdout",
          "text": [
            "3 5 7 8 9 66 7 8 3 5 "
          ]
        }
      ]
    },
    {
      "cell_type": "code",
      "source": [
        "import random\n",
        "random.randint(0,9)"
      ],
      "metadata": {
        "id": "_4SHkRKG0c_R"
      },
      "execution_count": null,
      "outputs": []
    },
    {
      "cell_type": "code",
      "source": [
        "for i in range(0,9):\n",
        "  random.randint(0,9)\n",
        "  print(random.randint(0,9), end=\" \")"
      ],
      "metadata": {
        "colab": {
          "base_uri": "https://localhost:8080/"
        },
        "id": "KBDrW07Vz7fB",
        "outputId": "b7a54f63-ebe0-46b2-b599-2110cb3ecacd"
      },
      "execution_count": 30,
      "outputs": [
        {
          "output_type": "stream",
          "name": "stdout",
          "text": [
            "9 4 1 6 4 2 7 3 4 "
          ]
        }
      ]
    },
    {
      "cell_type": "code",
      "source": [
        "for i in range(0,9):\n",
        "  print(end=\"\\n \")\n",
        "  for j in range(0,9):\n",
        "    random.randint(0,9)\n",
        "    print(random.randint(0,9), end=\" \")"
      ],
      "metadata": {
        "colab": {
          "base_uri": "https://localhost:8080/"
        },
        "id": "g3cNtGSl08TG",
        "outputId": "d85bbf34-bb42-465a-a88a-3985af837cea"
      },
      "execution_count": 34,
      "outputs": [
        {
          "output_type": "stream",
          "name": "stdout",
          "text": [
            "\n",
            " 7 6 3 1 4 7 2 0 7 \n",
            " 2 8 6 5 6 3 3 5 4 \n",
            " 7 5 3 9 2 1 4 2 5 \n",
            " 6 7 4 4 9 4 2 4 3 \n",
            " 6 0 6 3 9 6 9 0 8 \n",
            " 0 2 9 8 4 6 0 8 1 \n",
            " 8 1 2 0 6 1 4 4 9 \n",
            " 6 1 1 6 3 4 7 0 8 \n",
            " 3 0 7 5 9 3 5 7 4 "
          ]
        }
      ]
    },
    {
      "cell_type": "code",
      "source": [
        "\n",
        "for i in range(0,9):\n",
        "  # print(end=\"\\n \")\n",
        "  c= 0\n",
        "  for j in range(0,9):\n",
        "    \n",
        "    c= c+random.randint(0,9)\n",
        "    print(random.randint(0,9), end=\" \")\n",
        "  print(end=\" * \")\n",
        "  print(c)\n"
      ],
      "metadata": {
        "colab": {
          "base_uri": "https://localhost:8080/"
        },
        "id": "m0tP9Qhu1pw3",
        "outputId": "2e81299e-948b-4066-e2db-cb3a6d6d39ee"
      },
      "execution_count": 44,
      "outputs": [
        {
          "output_type": "stream",
          "name": "stdout",
          "text": [
            "2 7 0 0 6 2 5 0 2  * 36\n",
            "0 5 0 5 6 0 0 9 4  * 26\n",
            "0 1 9 4 3 5 2 5 9  * 50\n",
            "4 2 5 2 8 7 4 7 0  * 32\n",
            "9 0 0 5 4 2 1 8 7  * 40\n",
            "9 9 7 1 5 4 4 9 4  * 50\n",
            "1 2 4 3 7 2 1 4 4  * 52\n",
            "2 8 8 8 2 8 5 3 2  * 58\n",
            "8 6 0 7 3 0 6 8 3  * 34\n"
          ]
        }
      ]
    },
    {
      "cell_type": "code",
      "source": [
        "co=0\n",
        "for i in range(0,9):\n",
        "  # print(end=\"\\n \")\n",
        "  c= 0\n",
        "  \n",
        "  for j in range(0,9):\n",
        "    \n",
        "    c= c+random.randint(0,9)\n",
        "    print(random.randint(0,9), end=\" \")\n",
        "  co= co+random.randint(0,9)\n",
        "  print(random.randint(0,9), end=\" \")\n",
        "  print(end=\" * \")\n",
        "  print(c)\n",
        "print(\"* \")\n",
        "print(co)"
      ],
      "metadata": {
        "colab": {
          "base_uri": "https://localhost:8080/"
        },
        "id": "wJlIq2Qp4PG1",
        "outputId": "6731d328-3489-43e6-ade7-fbe933472998"
      },
      "execution_count": 53,
      "outputs": [
        {
          "output_type": "stream",
          "name": "stdout",
          "text": [
            "3 6 7 4 6 6 8 9 5 0  * 37\n",
            "6 2 6 0 2 9 9 8 6 8  * 32\n",
            "8 7 0 7 8 2 0 0 9 4  * 47\n",
            "1 2 2 6 3 3 7 5 0 0  * 28\n",
            "3 8 4 9 6 4 5 7 2 3  * 46\n",
            "7 2 7 1 9 8 6 5 1 7  * 40\n",
            "8 0 2 9 2 9 8 0 2 1  * 35\n",
            "2 8 3 9 8 0 6 1 1 3  * 20\n",
            "5 5 9 4 5 9 9 4 6 4  * 47\n",
            "* \n",
            "48\n"
          ]
        }
      ]
    }
  ]
}