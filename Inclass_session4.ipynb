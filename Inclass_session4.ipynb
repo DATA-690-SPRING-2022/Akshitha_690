{
  "nbformat": 4,
  "nbformat_minor": 0,
  "metadata": {
    "colab": {
      "name": "Inclass-session4.ipynb",
      "provenance": [],
      "authorship_tag": "ABX9TyNcVPPfeDag/CceuifUZVAA",
      "include_colab_link": true
    },
    "kernelspec": {
      "name": "python3",
      "display_name": "Python 3"
    },
    "language_info": {
      "name": "python"
    }
  },
  "cells": [
    {
      "cell_type": "markdown",
      "metadata": {
        "id": "view-in-github",
        "colab_type": "text"
      },
      "source": [
        "<a href=\"https://colab.research.google.com/github/akukudala/Akshitha_690/blob/main/Inclass_session4.ipynb\" target=\"_parent\"><img src=\"https://colab.research.google.com/assets/colab-badge.svg\" alt=\"Open In Colab\"/></a>"
      ]
    },
    {
      "cell_type": "markdown",
      "source": [
        "# In Class Practice\n",
        "\n",
        "## Akshitha Kukudala\n",
        "## 2/25/2022"
      ],
      "metadata": {
        "id": "GQdoaAh5DrSj"
      }
    },
    {
      "cell_type": "code",
      "execution_count": 1,
      "metadata": {
        "colab": {
          "base_uri": "https://localhost:8080/"
        },
        "id": "BtcHqpb7Dly8",
        "outputId": "9dfd884b-34e9-457f-c71d-c880d43eb709"
      },
      "outputs": [
        {
          "output_type": "stream",
          "name": "stdout",
          "text": [
            "\n",
            " 2 0 @ @ 6 @ @ @ @ @ \n",
            " @ 4 @ 6 @ 8 @ @ 6 @ \n",
            " @ @ @ 6 6 @ @ 8 @ 2 \n",
            " @ 2 4 @ 4 4 4 @ 6 @ \n",
            " @ @ 6 @ 4 @ @ @ @ @ \n",
            " 2 @ 2 @ 2 @ @ @ 8 0 \n",
            " @ @ @ @ @ 0 8 4 @ @ \n",
            " 2 @ 4 @ 4 8 6 @ @ 6 \n",
            " @ 8 @ 2 @ 2 @ @ 2 8 \n",
            " @ @ @ @ @ 6 0 2 @ @ "
          ]
        }
      ],
      "source": [
        "import random\n",
        "import re\n",
        "for i in range(0,10):\n",
        "    print(end=\"\\n \")\n",
        "    for j in range(0,10):\n",
        "        num=random.randint(0,9)\n",
        "        if (num % 2) == 0:\n",
        "            print(num, end=\" \")\n",
        "        else:\n",
        "            strnum = str(num)\n",
        "            strnum=strnum.replace(strnum,\"@\")\n",
        "            print(strnum, end=\" \")"
      ]
    },
    {
      "cell_type": "code",
      "source": [
        "x = \"Hello, Akshitha!!!\"\n",
        "\n",
        "print(x)"
      ],
      "metadata": {
        "colab": {
          "base_uri": "https://localhost:8080/"
        },
        "id": "QSwTLZWwEWeQ",
        "outputId": "adbb8cf6-e788-48d5-bfe3-d90456bf0d75"
      },
      "execution_count": 2,
      "outputs": [
        {
          "output_type": "stream",
          "name": "stdout",
          "text": [
            "Hello, Akshitha!!!\n"
          ]
        }
      ]
    },
    {
      "cell_type": "code",
      "source": [
        "x=x.replace('!','$')"
      ],
      "metadata": {
        "id": "bC4XPuioEei6"
      },
      "execution_count": 3,
      "outputs": []
    },
    {
      "cell_type": "code",
      "source": [
        "print(x)"
      ],
      "metadata": {
        "colab": {
          "base_uri": "https://localhost:8080/"
        },
        "id": "scj1x_rjEj7Z",
        "outputId": "7e6cdf41-3739-4dee-8212-22e3ba018ab8"
      },
      "execution_count": 4,
      "outputs": [
        {
          "output_type": "stream",
          "name": "stdout",
          "text": [
            "Hello, Akshitha$$$\n"
          ]
        }
      ]
    },
    {
      "cell_type": "code",
      "source": [
        "x = x.replace(\"Hello\", \"Akshitha\")\n",
        "\n",
        "print(x)"
      ],
      "metadata": {
        "colab": {
          "base_uri": "https://localhost:8080/"
        },
        "id": "hToc0LhwFEJq",
        "outputId": "a4427c9b-22fc-41a0-9ec5-ca89957470f0"
      },
      "execution_count": 7,
      "outputs": [
        {
          "output_type": "stream",
          "name": "stdout",
          "text": [
            "Akshitha, Akshitha$$$\n"
          ]
        }
      ]
    },
    {
      "cell_type": "code",
      "source": [
        "print(x.lower())"
      ],
      "metadata": {
        "colab": {
          "base_uri": "https://localhost:8080/"
        },
        "id": "JGaiwu1xFd0z",
        "outputId": "8b458743-e734-41e4-b1a3-669d18d0e29d"
      },
      "execution_count": 8,
      "outputs": [
        {
          "output_type": "stream",
          "name": "stdout",
          "text": [
            "akshitha, akshitha$$$\n"
          ]
        }
      ]
    },
    {
      "cell_type": "code",
      "source": [
        "print(x.upper())"
      ],
      "metadata": {
        "colab": {
          "base_uri": "https://localhost:8080/"
        },
        "id": "--5DoTEEFnVD",
        "outputId": "4b42da7e-f94e-462c-d475-991b4e6701c5"
      },
      "execution_count": 9,
      "outputs": [
        {
          "output_type": "stream",
          "name": "stdout",
          "text": [
            "AKSHITHA, AKSHITHA$$$\n"
          ]
        }
      ]
    },
    {
      "cell_type": "markdown",
      "source": [
        "## String functions/methods/operations\n",
        "* upper()\n",
        "* lower()\n",
        "* replace()\n",
        "* strip()\n",
        "* lstrip()\n",
        "* rstrip()"
      ],
      "metadata": {
        "id": "7iKaEA0JFwUs"
      }
    },
    {
      "cell_type": "code",
      "source": [
        "#  generate 100 number first\n",
        "\n",
        "numbers=[]     # This list is to hold 100 random numbers\n",
        "for i in range(100):\n",
        "    numbers.append(random.randint(0, 9))\n",
        "\n",
        "print(numbers)\n",
        "print(len(numbers))"
      ],
      "metadata": {
        "colab": {
          "base_uri": "https://localhost:8080/"
        },
        "id": "kFWIMGmaF6gH",
        "outputId": "e587f900-bdc2-484d-a9e9-fad90b64fb60"
      },
      "execution_count": 10,
      "outputs": [
        {
          "output_type": "stream",
          "name": "stdout",
          "text": [
            "[8, 6, 2, 4, 4, 6, 7, 3, 7, 8, 4, 7, 3, 4, 4, 2, 2, 2, 0, 2, 8, 0, 6, 5, 2, 9, 1, 1, 7, 5, 9, 6, 4, 9, 3, 6, 8, 3, 3, 5, 0, 2, 4, 2, 3, 9, 0, 6, 0, 1, 9, 1, 6, 5, 9, 7, 0, 4, 4, 9, 8, 0, 6, 6, 3, 7, 5, 7, 1, 5, 5, 5, 7, 7, 8, 1, 2, 0, 4, 9, 6, 1, 5, 4, 6, 4, 6, 9, 1, 0, 9, 8, 8, 0, 0, 9, 6, 9, 4, 7]\n",
            "100\n"
          ]
        }
      ]
    },
    {
      "cell_type": "code",
      "source": [
        "for i in range(0,100,1):\n",
        "    print(\"index = \", i, \"member = \", numbers[i])"
      ],
      "metadata": {
        "colab": {
          "base_uri": "https://localhost:8080/"
        },
        "id": "lb4pCiknGDi6",
        "outputId": "50280846-bcdd-4bc6-fc1c-410a526002c5"
      },
      "execution_count": 11,
      "outputs": [
        {
          "output_type": "stream",
          "name": "stdout",
          "text": [
            "index =  0 member =  8\n",
            "index =  1 member =  6\n",
            "index =  2 member =  2\n",
            "index =  3 member =  4\n",
            "index =  4 member =  4\n",
            "index =  5 member =  6\n",
            "index =  6 member =  7\n",
            "index =  7 member =  3\n",
            "index =  8 member =  7\n",
            "index =  9 member =  8\n",
            "index =  10 member =  4\n",
            "index =  11 member =  7\n",
            "index =  12 member =  3\n",
            "index =  13 member =  4\n",
            "index =  14 member =  4\n",
            "index =  15 member =  2\n",
            "index =  16 member =  2\n",
            "index =  17 member =  2\n",
            "index =  18 member =  0\n",
            "index =  19 member =  2\n",
            "index =  20 member =  8\n",
            "index =  21 member =  0\n",
            "index =  22 member =  6\n",
            "index =  23 member =  5\n",
            "index =  24 member =  2\n",
            "index =  25 member =  9\n",
            "index =  26 member =  1\n",
            "index =  27 member =  1\n",
            "index =  28 member =  7\n",
            "index =  29 member =  5\n",
            "index =  30 member =  9\n",
            "index =  31 member =  6\n",
            "index =  32 member =  4\n",
            "index =  33 member =  9\n",
            "index =  34 member =  3\n",
            "index =  35 member =  6\n",
            "index =  36 member =  8\n",
            "index =  37 member =  3\n",
            "index =  38 member =  3\n",
            "index =  39 member =  5\n",
            "index =  40 member =  0\n",
            "index =  41 member =  2\n",
            "index =  42 member =  4\n",
            "index =  43 member =  2\n",
            "index =  44 member =  3\n",
            "index =  45 member =  9\n",
            "index =  46 member =  0\n",
            "index =  47 member =  6\n",
            "index =  48 member =  0\n",
            "index =  49 member =  1\n",
            "index =  50 member =  9\n",
            "index =  51 member =  1\n",
            "index =  52 member =  6\n",
            "index =  53 member =  5\n",
            "index =  54 member =  9\n",
            "index =  55 member =  7\n",
            "index =  56 member =  0\n",
            "index =  57 member =  4\n",
            "index =  58 member =  4\n",
            "index =  59 member =  9\n",
            "index =  60 member =  8\n",
            "index =  61 member =  0\n",
            "index =  62 member =  6\n",
            "index =  63 member =  6\n",
            "index =  64 member =  3\n",
            "index =  65 member =  7\n",
            "index =  66 member =  5\n",
            "index =  67 member =  7\n",
            "index =  68 member =  1\n",
            "index =  69 member =  5\n",
            "index =  70 member =  5\n",
            "index =  71 member =  5\n",
            "index =  72 member =  7\n",
            "index =  73 member =  7\n",
            "index =  74 member =  8\n",
            "index =  75 member =  1\n",
            "index =  76 member =  2\n",
            "index =  77 member =  0\n",
            "index =  78 member =  4\n",
            "index =  79 member =  9\n",
            "index =  80 member =  6\n",
            "index =  81 member =  1\n",
            "index =  82 member =  5\n",
            "index =  83 member =  4\n",
            "index =  84 member =  6\n",
            "index =  85 member =  4\n",
            "index =  86 member =  6\n",
            "index =  87 member =  9\n",
            "index =  88 member =  1\n",
            "index =  89 member =  0\n",
            "index =  90 member =  9\n",
            "index =  91 member =  8\n",
            "index =  92 member =  8\n",
            "index =  93 member =  0\n",
            "index =  94 member =  0\n",
            "index =  95 member =  9\n",
            "index =  96 member =  6\n",
            "index =  97 member =  9\n",
            "index =  98 member =  4\n",
            "index =  99 member =  7\n"
          ]
        }
      ]
    },
    {
      "cell_type": "code",
      "source": [
        "count=0\n",
        "for i in range(10):\n",
        "    for j in range(10):\n",
        "        print(numbers[count],\" \", end =\" \")\n",
        "        count+=1\n",
        "    print(\"\\n\")"
      ],
      "metadata": {
        "colab": {
          "base_uri": "https://localhost:8080/"
        },
        "id": "v-5BEB7AGHp5",
        "outputId": "387b5a51-94a7-4990-d77c-0980e5040416"
      },
      "execution_count": 12,
      "outputs": [
        {
          "output_type": "stream",
          "name": "stdout",
          "text": [
            "8   6   2   4   4   6   7   3   7   8   \n",
            "\n",
            "4   7   3   4   4   2   2   2   0   2   \n",
            "\n",
            "8   0   6   5   2   9   1   1   7   5   \n",
            "\n",
            "9   6   4   9   3   6   8   3   3   5   \n",
            "\n",
            "0   2   4   2   3   9   0   6   0   1   \n",
            "\n",
            "9   1   6   5   9   7   0   4   4   9   \n",
            "\n",
            "8   0   6   6   3   7   5   7   1   5   \n",
            "\n",
            "5   5   7   7   8   1   2   0   4   9   \n",
            "\n",
            "6   1   5   4   6   4   6   9   1   0   \n",
            "\n",
            "9   8   8   0   0   9   6   9   4   7   \n",
            "\n"
          ]
        }
      ]
    },
    {
      "cell_type": "code",
      "source": [
        "# when to initialize a variable\n",
        "\n",
        "sum=0\n",
        "for n in range (10): #repeats each row 10 times\n",
        "    for i in range(10): #repeats each integer 10 times\n",
        "       y=random.randint(0,9)\n",
        "       sum=sum+ y\n",
        "       print(y,end=\" \") #prints one integer with space at the end\n",
        "    print( \"*\",sum,end=\" \\n\")  #starts a new row after each 10 char\n",
        "    sum=0                     #resets sum to 0 before the next loop"
      ],
      "metadata": {
        "colab": {
          "base_uri": "https://localhost:8080/"
        },
        "id": "uc1tImI6GLWH",
        "outputId": "a9147192-3fb8-4dbf-a02d-26b152a700b6"
      },
      "execution_count": 13,
      "outputs": [
        {
          "output_type": "stream",
          "name": "stdout",
          "text": [
            "8 7 7 8 5 6 6 2 7 2 * 58 \n",
            "9 6 7 2 2 9 9 5 3 0 * 52 \n",
            "0 0 6 7 0 2 6 6 5 0 * 32 \n",
            "6 3 8 1 1 7 0 0 8 6 * 40 \n",
            "2 6 6 9 4 4 3 3 3 5 * 45 \n",
            "9 2 6 0 7 6 6 6 1 1 * 44 \n",
            "4 1 8 0 2 8 7 8 3 3 * 44 \n",
            "9 4 6 6 9 5 6 8 7 9 * 69 \n",
            "2 5 5 8 5 3 9 6 7 3 * 53 \n",
            "5 4 6 9 6 8 6 6 1 1 * 52 \n"
          ]
        }
      ]
    },
    {
      "cell_type": "code",
      "source": [
        "# when to initialize a variable\n",
        "\n",
        "\n",
        "for n in range (10): #repeats each row 10 times\n",
        "    sum=0\n",
        "    for i in range(10): #repeats each integer 10 times\n",
        "       y=random.randint(0,9)\n",
        "       sum=sum+ y\n",
        "       print(y,end=\" \") #prints one integer with space at the end\n",
        "    print( \"*\",sum,end=\" \\n\")  #starts a new row after each 10 char"
      ],
      "metadata": {
        "colab": {
          "base_uri": "https://localhost:8080/"
        },
        "id": "1vwi3MI0GPjr",
        "outputId": "2f78583e-1d8a-437a-d3b9-7316cf30aa9c"
      },
      "execution_count": 14,
      "outputs": [
        {
          "output_type": "stream",
          "name": "stdout",
          "text": [
            "3 4 4 1 4 9 1 4 0 4 * 34 \n",
            "8 1 4 3 6 5 4 9 0 8 * 48 \n",
            "3 6 2 2 2 8 9 7 9 8 * 56 \n",
            "1 5 8 6 5 4 3 8 2 3 * 45 \n",
            "4 0 8 5 5 3 6 4 5 9 * 49 \n",
            "1 7 4 3 7 0 2 9 5 0 * 38 \n",
            "6 9 8 9 8 2 3 0 5 6 * 56 \n",
            "4 5 5 1 0 0 5 9 0 5 * 34 \n",
            "7 4 5 1 2 1 2 6 6 8 * 42 \n",
            "6 7 8 8 9 1 9 5 0 8 * 61 \n"
          ]
        }
      ]
    },
    {
      "cell_type": "code",
      "source": [
        "x = [0,0,0,0,0,0]\n",
        "\n",
        "print(x)"
      ],
      "metadata": {
        "colab": {
          "base_uri": "https://localhost:8080/"
        },
        "id": "7Dmj3GNzGSpB",
        "outputId": "9660da18-48b3-4c82-b235-f275b527453e"
      },
      "execution_count": 15,
      "outputs": [
        {
          "output_type": "stream",
          "name": "stdout",
          "text": [
            "[0, 0, 0, 0, 0, 0]\n"
          ]
        }
      ]
    },
    {
      "cell_type": "code",
      "source": [
        "x = [0] * 6"
      ],
      "metadata": {
        "id": "aZu_O5CFGWLJ"
      },
      "execution_count": 16,
      "outputs": []
    },
    {
      "cell_type": "code",
      "source": [
        "x = [0] * 100\n",
        "\n",
        "print(x)"
      ],
      "metadata": {
        "id": "enzNWL3NGZtS",
        "outputId": "e7ef1050-d102-4a2e-da07-a736a4d92ba9",
        "colab": {
          "base_uri": "https://localhost:8080/"
        }
      },
      "execution_count": 17,
      "outputs": [
        {
          "output_type": "stream",
          "name": "stdout",
          "text": [
            "[0, 0, 0, 0, 0, 0, 0, 0, 0, 0, 0, 0, 0, 0, 0, 0, 0, 0, 0, 0, 0, 0, 0, 0, 0, 0, 0, 0, 0, 0, 0, 0, 0, 0, 0, 0, 0, 0, 0, 0, 0, 0, 0, 0, 0, 0, 0, 0, 0, 0, 0, 0, 0, 0, 0, 0, 0, 0, 0, 0, 0, 0, 0, 0, 0, 0, 0, 0, 0, 0, 0, 0, 0, 0, 0, 0, 0, 0, 0, 0, 0, 0, 0, 0, 0, 0, 0, 0, 0, 0, 0, 0, 0, 0, 0, 0, 0, 0, 0, 0]\n"
          ]
        }
      ]
    }
  ]
}