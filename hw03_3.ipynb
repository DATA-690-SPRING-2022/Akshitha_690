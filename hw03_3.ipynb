{
  "nbformat": 4,
  "nbformat_minor": 0,
  "metadata": {
    "colab": {
      "name": "hw03-3.ipynb",
      "provenance": [],
      "collapsed_sections": [],
      "authorship_tag": "ABX9TyPxas94/yS9V7F/2ZIS+BjB",
      "include_colab_link": true
    },
    "kernelspec": {
      "name": "python3",
      "display_name": "Python 3"
    },
    "language_info": {
      "name": "python"
    }
  },
  "cells": [
    {
      "cell_type": "markdown",
      "metadata": {
        "id": "view-in-github",
        "colab_type": "text"
      },
      "source": [
        "<a href=\"https://colab.research.google.com/github/akukudala/Akshitha_690/blob/main/hw03_3.ipynb\" target=\"_parent\"><img src=\"https://colab.research.google.com/assets/colab-badge.svg\" alt=\"Open In Colab\"/></a>"
      ]
    },
    {
      "cell_type": "code",
      "execution_count": 1,
      "metadata": {
        "colab": {
          "base_uri": "https://localhost:8080/"
        },
        "id": "Tzst343pmQ8E",
        "outputId": "e969a214-4d99-4940-c17d-3809dcfcfc24"
      },
      "outputs": [
        {
          "output_type": "stream",
          "name": "stdout",
          "text": [
            "Collecting mrjob\n",
            "  Downloading mrjob-0.7.4-py2.py3-none-any.whl (439 kB)\n",
            "\u001b[K     |████████████████████████████████| 439 kB 5.1 MB/s \n",
            "\u001b[?25hRequirement already satisfied: PyYAML>=3.10 in /usr/local/lib/python3.7/dist-packages (from mrjob) (3.13)\n",
            "Installing collected packages: mrjob\n",
            "Successfully installed mrjob-0.7.4\n"
          ]
        }
      ],
      "source": [
        "!pip install mrjob"
      ]
    },
    {
      "cell_type": "code",
      "source": [
        "!curl https://raw.githubusercontent.com/akukudala/homework_603/main/yelp.csv -o yelp1.csv"
      ],
      "metadata": {
        "colab": {
          "base_uri": "https://localhost:8080/"
        },
        "id": "h0RSon3CmTs8",
        "outputId": "5ced078f-882d-4b87-d9fa-83c657627123"
      },
      "execution_count": 2,
      "outputs": [
        {
          "output_type": "stream",
          "name": "stdout",
          "text": [
            "  % Total    % Received % Xferd  Average Speed   Time    Time     Time  Current\n",
            "                                 Dload  Upload   Total   Spent    Left  Speed\n",
            "100 7901k  100 7901k    0     0  21.2M      0 --:--:-- --:--:-- --:--:-- 21.2M\n"
          ]
        }
      ]
    },
    {
      "cell_type": "code",
      "source": [
        "%%file hw03_03.py\n",
        "\n",
        "from mrjob.job import MRJob\n",
        "import re\n",
        "import csv\n",
        "\n",
        "\n",
        "class Mrjobavgrating(MRJob):\n",
        "      \n",
        "    \n",
        "    def mapper(self, _, line):\n",
        "        \n",
        "        columns=line.split(',')\n",
        "        \n",
        "        starcol = columns[3]\n",
        "        coolcol = columns[7]\n",
        "        if starcol.startswith('stars'):\n",
        "            pass\n",
        "        else:\n",
        "            if coolcol.startswith('cool'):\n",
        "                pass\n",
        "            else:\n",
        "                if(coolcol != 0):\n",
        "                    yield \"Avg Rating Stars where cool!=0  - \", int(starcol)\n",
        "        \n",
        "    \n",
        "\n",
        "    def reducer(self,key, values):\n",
        "      avg,avg1=0,0\n",
        "      for i in values:\n",
        "            avg+=1\n",
        "            avg1+=i\n",
        "      yield key, round((avg1/avg),2)\n",
        "        \n",
        "if __name__ == '_main_':\n",
        "    Mrjobavgrating.run()"
      ],
      "metadata": {
        "colab": {
          "base_uri": "https://localhost:8080/"
        },
        "id": "h_nmPJx-meuG",
        "outputId": "38708ef9-dd43-4376-98ba-3e1ad588a54b"
      },
      "execution_count": 7,
      "outputs": [
        {
          "output_type": "stream",
          "name": "stdout",
          "text": [
            "Overwriting hw03_03.py\n"
          ]
        }
      ]
    },
    {
      "cell_type": "code",
      "source": [
        "import hw03_03\n",
        "mr_job = hw03_03.Mrjobavgrating(args=['yelp1.csv'])\n",
        "with mr_job.make_runner() as runner:\n",
        "    runner.run()\n",
        "    for key, value in mr_job.parse_output(runner.cat_output()):\n",
        "        print(key, value)"
      ],
      "metadata": {
        "colab": {
          "base_uri": "https://localhost:8080/"
        },
        "id": "PHX06KiDm6So",
        "outputId": "9738798e-b204-4a53-827f-4ef6f16baa57"
      },
      "execution_count": 8,
      "outputs": [
        {
          "output_type": "stream",
          "name": "stderr",
          "text": [
            "No configs specified for inline runner\n"
          ]
        },
        {
          "output_type": "stream",
          "name": "stdout",
          "text": [
            "Avg Rating Stars where cool!=0 3.78\n"
          ]
        }
      ]
    }
  ]
}