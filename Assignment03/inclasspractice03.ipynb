{
  "nbformat": 4,
  "nbformat_minor": 0,
  "metadata": {
    "colab": {
      "name": "inclasspractice03.ipynb",
      "provenance": [],
      "authorship_tag": "ABX9TyNI00FOFjYywIwt3VCFdW+d",
      "include_colab_link": true
    },
    "kernelspec": {
      "name": "python3",
      "display_name": "Python 3"
    },
    "language_info": {
      "name": "python"
    }
  },
  "cells": [
    {
      "cell_type": "markdown",
      "metadata": {
        "id": "view-in-github",
        "colab_type": "text"
      },
      "source": [
        "<a href=\"https://colab.research.google.com/github/akukudala/Akshitha_690/blob/main/Assignment03/inclasspractice03.ipynb\" target=\"_parent\"><img src=\"https://colab.research.google.com/assets/colab-badge.svg\" alt=\"Open In Colab\"/></a>"
      ]
    },
    {
      "cell_type": "markdown",
      "source": [
        "## In Class Practice\n",
        "Importing custom developed modules"
      ],
      "metadata": {
        "id": "CBtuMAl5CBli"
      }
    },
    {
      "cell_type": "code",
      "source": [
        "import myfunc\n",
        "x = myfunc.maxvalfun([2,3,4,5,8])"
      ],
      "metadata": {
        "id": "b72PdlgEbxmL"
      },
      "execution_count": null,
      "outputs": []
    },
    {
      "cell_type": "code",
      "source": [
        "def maxvalfunc(all_int):\n",
        "  maxval = all_int[0]\n",
        "  for max in all_int:\n",
        "    if max > maxval:\n",
        "      maxval = max\n",
        "  print (\"The maximum value is \", maxval)\n",
        "  return maxval"
      ],
      "metadata": {
        "id": "dvCccr1CBEAG"
      },
      "execution_count": null,
      "outputs": []
    },
    {
      "cell_type": "markdown",
      "source": [
        ""
      ],
      "metadata": {
        "id": "MhUMNsVKB_6u"
      }
    },
    {
      "cell_type": "markdown",
      "source": [
        "# New Section"
      ],
      "metadata": {
        "id": "ooEWrn6kA47n"
      }
    }
  ]
}