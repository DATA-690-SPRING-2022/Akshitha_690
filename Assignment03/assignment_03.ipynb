{
  "nbformat": 4,
  "nbformat_minor": 0,
  "metadata": {
    "colab": {
      "name": "assignment_03.ipynb",
      "provenance": [],
      "collapsed_sections": [],
      "authorship_tag": "ABX9TyPdSgG5ILf854t6DTsxfUW9",
      "include_colab_link": true
    },
    "kernelspec": {
      "name": "python3",
      "display_name": "Python 3"
    },
    "language_info": {
      "name": "python"
    }
  },
  "cells": [
    {
      "cell_type": "markdown",
      "metadata": {
        "id": "view-in-github",
        "colab_type": "text"
      },
      "source": [
        "<a href=\"https://colab.research.google.com/github/akukudala/Akshitha_690/blob/main/Assignment03/assignment_03.ipynb\" target=\"_parent\"><img src=\"https://colab.research.google.com/assets/colab-badge.svg\" alt=\"Open In Colab\"/></a>"
      ]
    },
    {
      "cell_type": "markdown",
      "source": [
        "## Assignment 03\n",
        "## Displaying Patterns \n",
        "* **Name** : Akshitha Kukudala"
      ],
      "metadata": {
        "id": "p0U9TGAAIFQ3"
      }
    },
    {
      "cell_type": "markdown",
      "source": [
        "1. Displaying the random numbers in 10*10 Matrix format"
      ],
      "metadata": {
        "id": "L1DTl936JI6u"
      }
    },
    {
      "cell_type": "code",
      "execution_count": 27,
      "metadata": {
        "colab": {
          "base_uri": "https://localhost:8080/"
        },
        "id": "_-fMIy2MLKP9",
        "outputId": "39f72e3c-5f56-4d1f-f17e-d92b64718f33"
      },
      "outputs": [
        {
          "output_type": "stream",
          "name": "stdout",
          "text": [
            "\n",
            " 2 1 9 8 2 9 7 3 8 2 \n",
            " 2 7 8 2 7 4 9 6 9 9 \n",
            " 6 6 9 6 3 0 9 2 2 8 \n",
            " 2 0 8 7 7 1 5 0 9 3 \n",
            " 5 0 0 1 0 3 2 5 2 6 \n",
            " 0 9 8 5 6 2 3 8 1 8 \n",
            " 6 2 5 6 2 5 1 1 5 6 \n",
            " 6 2 1 5 7 5 6 0 7 9 \n",
            " 4 9 4 9 7 1 2 6 4 7 \n",
            " 0 7 3 2 5 9 5 2 8 9 "
          ]
        }
      ],
      "source": [
        "import random\n",
        "for i in range(0,10):\n",
        "    print(end=\"\\n \")\n",
        "    for j in range(0,10):\n",
        "        random.randint(0,9)\n",
        "        print(random.randint(0,9), end=\" \")"
      ]
    },
    {
      "cell_type": "markdown",
      "source": [
        "2. Replacing the odd numbers with a special character"
      ],
      "metadata": {
        "id": "ee7UTpSJJIJe"
      }
    },
    {
      "cell_type": "code",
      "source": [
        "import random\n",
        "import re\n",
        "for i in range(0,10):\n",
        "    print(end=\"\\n \")\n",
        "    for j in range(0,10):\n",
        "        num=random.randint(0,9)\n",
        "        if (num % 2) == 0:\n",
        "            print(num, end=\" \")\n",
        "        else:\n",
        "            strnum = str(num)\n",
        "            strnum=strnum.replace(strnum,\"@\")\n",
        "            print(strnum, end=\" \")\n",
        "    "
      ],
      "metadata": {
        "colab": {
          "base_uri": "https://localhost:8080/"
        },
        "id": "P265BoYTMdVS",
        "outputId": "c2b3ddd1-fbde-403a-9484-f4f3231c045d"
      },
      "execution_count": 26,
      "outputs": [
        {
          "output_type": "stream",
          "name": "stdout",
          "text": [
            "\n",
            " 0 4 0 2 8 @ 0 @ @ 4 \n",
            " 8 4 @ 4 @ @ 6 @ 8 0 \n",
            " 2 4 @ @ @ @ @ 4 @ @ \n",
            " 0 6 8 @ @ @ 6 @ 8 8 \n",
            " 6 4 8 8 0 2 0 4 @ @ \n",
            " @ @ @ @ 4 @ @ 0 6 8 \n",
            " 6 @ @ 8 2 @ 8 2 6 @ \n",
            " @ 6 @ @ 6 2 @ @ 0 @ \n",
            " @ @ @ 6 4 2 0 @ @ 4 \n",
            " @ 2 6 8 2 @ @ 8 @ 8 "
          ]
        }
      ]
    },
    {
      "cell_type": "markdown",
      "source": [
        "3. Calculating the total row wise."
      ],
      "metadata": {
        "id": "bgk_cYDeKX6H"
      }
    },
    {
      "cell_type": "code",
      "source": [
        "for i in range(0,10):\n",
        "    c= 0\n",
        "    for j in range(0,10):\n",
        "        c= c+random.randint(0,9)\n",
        "        print(random.randint(0,9), end=\" \")\n",
        "    print(end=\" * \")\n",
        "    print(c)"
      ],
      "metadata": {
        "colab": {
          "base_uri": "https://localhost:8080/"
        },
        "id": "sANl0ejbPVPV",
        "outputId": "22b165b4-412d-4c78-ab9f-f318764757b0"
      },
      "execution_count": 28,
      "outputs": [
        {
          "output_type": "stream",
          "name": "stdout",
          "text": [
            "4 0 2 0 3 5 3 5 2 5  * 55\n",
            "8 9 9 9 1 5 3 9 2 6  * 50\n",
            "2 5 2 7 2 0 3 4 6 5  * 46\n",
            "8 8 3 0 2 8 8 9 9 8  * 57\n",
            "5 1 0 5 8 0 0 5 0 7  * 56\n",
            "1 4 6 2 4 7 6 5 0 6  * 43\n",
            "6 8 9 3 0 0 1 8 9 6  * 39\n",
            "3 3 5 6 1 2 5 3 4 7  * 54\n",
            "6 9 2 0 0 6 7 1 5 0  * 40\n",
            "7 2 8 4 5 0 4 6 1 7  * 46\n"
          ]
        }
      ]
    },
    {
      "cell_type": "markdown",
      "source": [
        "4. Creating a pattern with \"*\""
      ],
      "metadata": {
        "id": "m3FRegLoKiQs"
      }
    },
    {
      "cell_type": "code",
      "source": [
        "for a in range(0,23):\n",
        "    print(\"*\", end=\"\")  \n",
        "print(\"\\n\", end=\"\")\n",
        "for i in range(0,10):\n",
        "    c= 0\n",
        "    print(end=\"* \")\n",
        "    for j in range(0,10):\n",
        "        print(random.randint(0,9), end=\" \")\n",
        "    print(end=\"* \")\n",
        "    print(end=\"\\n\")\n",
        "for a in range(0,23):\n",
        "    print(\"*\", end=\"\")  \n",
        "print(\"\\n\", end=\"\")  \n",
        "  "
      ],
      "metadata": {
        "colab": {
          "base_uri": "https://localhost:8080/"
        },
        "id": "k7ZdXs21Pp6i",
        "outputId": "d61a89d3-f30a-408c-d2c6-6e80b4f27ce6"
      },
      "execution_count": 36,
      "outputs": [
        {
          "output_type": "stream",
          "name": "stdout",
          "text": [
            "***********************\n",
            "* 7 6 7 4 5 3 9 3 6 1 * \n",
            "* 5 4 3 5 4 5 2 2 7 5 * \n",
            "* 9 1 5 5 8 8 7 4 1 0 * \n",
            "* 0 3 2 3 4 4 7 2 2 8 * \n",
            "* 8 0 3 8 5 2 2 7 6 0 * \n",
            "* 8 5 4 1 3 7 0 0 1 8 * \n",
            "* 1 9 4 2 8 7 4 3 9 3 * \n",
            "* 0 0 3 2 6 2 8 3 3 9 * \n",
            "* 3 1 5 5 2 6 6 6 0 9 * \n",
            "* 4 1 6 2 2 2 4 6 5 7 * \n",
            "***********************\n"
          ]
        }
      ]
    },
    {
      "cell_type": "markdown",
      "source": [
        "5. Displaying the matrix of numbers along with the sum of rows and cols "
      ],
      "metadata": {
        "id": "lKdh-vKpLhy7"
      }
    },
    {
      "cell_type": "code",
      "source": [
        "import random  \n",
        "cols = [0]*10  \n",
        "for i in range(0,10): \n",
        "    c= 0 \n",
        "    for j in range(0,10):  \n",
        "        num=(random.randint(0,9))\n",
        "        c= c+(num)  \n",
        "        cols[j] = cols[j] + num  \n",
        "        print(num, end=\"  \") \n",
        "    print(\"*\", c)  \n",
        "for a in range(0,10):\n",
        "    print(\"*\", end=\"  \")  \n",
        "print(\"\\n\", end=\"\")  \n",
        "for k in range(0,10):\n",
        "    print(cols[k], end=\" \")"
      ],
      "metadata": {
        "colab": {
          "base_uri": "https://localhost:8080/"
        },
        "id": "T8RZFH29TuI9",
        "outputId": "e844847c-1dc6-46ae-914d-e0379208efe7"
      },
      "execution_count": 38,
      "outputs": [
        {
          "output_type": "stream",
          "name": "stdout",
          "text": [
            "3  2  1  3  2  6  1  6  9  8  * 41\n",
            "9  2  6  5  7  7  1  8  2  8  * 55\n",
            "2  3  6  2  3  2  3  3  1  0  * 25\n",
            "1  3  4  7  3  6  2  1  5  4  * 36\n",
            "7  3  0  5  7  4  3  8  7  9  * 53\n",
            "6  2  7  5  5  1  4  0  5  8  * 43\n",
            "4  4  5  5  6  7  5  7  8  8  * 59\n",
            "3  2  6  5  6  4  3  5  1  5  * 40\n",
            "6  2  9  9  0  4  6  6  8  2  * 52\n",
            "7  7  2  6  2  8  9  4  4  0  * 49\n",
            "*  *  *  *  *  *  *  *  *  *  \n",
            "48 30 46 52 41 49 37 48 50 52 "
          ]
        }
      ]
    }
  ]
}