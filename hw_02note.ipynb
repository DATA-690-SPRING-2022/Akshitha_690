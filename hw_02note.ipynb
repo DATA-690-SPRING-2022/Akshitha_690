{
  "nbformat": 4,
  "nbformat_minor": 0,
  "metadata": {
    "colab": {
      "name": "hw_02note.ipynb",
      "provenance": [],
      "authorship_tag": "ABX9TyPCEMbJt4slodJCI3to+o9E",
      "include_colab_link": true
    },
    "kernelspec": {
      "name": "python3",
      "display_name": "Python 3"
    },
    "language_info": {
      "name": "python"
    }
  },
  "cells": [
    {
      "cell_type": "markdown",
      "metadata": {
        "id": "view-in-github",
        "colab_type": "text"
      },
      "source": [
        "<a href=\"https://colab.research.google.com/github/akukudala/Akshitha_690/blob/main/hw_02note.ipynb\" target=\"_parent\"><img src=\"https://colab.research.google.com/assets/colab-badge.svg\" alt=\"Open In Colab\"/></a>"
      ]
    },
    {
      "cell_type": "code",
      "execution_count": 1,
      "metadata": {
        "id": "Nf5LBiow8ebz"
      },
      "outputs": [],
      "source": [
        "def minvalfunc(all_int):\n",
        "  minval = all_int[0]\n",
        "  for mi in all_int:\n",
        "    if mi < minval:\n",
        "      minval = mi\n",
        "  print(\"The minimum value is \", minval)\n",
        "  return minval"
      ]
    },
    {
      "cell_type": "code",
      "source": [
        "def maxvalfunc(all_int):\n",
        "  maxval = all_int[0]\n",
        "  for max in all_int:\n",
        "    if max > maxval:\n",
        "      maxval = max\n",
        "  print (\"The maximum value is \", maxval)\n",
        "  return maxval\n"
      ],
      "metadata": {
        "id": "QyNxV2z79oN0"
      },
      "execution_count": null,
      "outputs": []
    }
  ]
}