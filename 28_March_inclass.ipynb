{
  "nbformat": 4,
  "nbformat_minor": 0,
  "metadata": {
    "colab": {
      "name": "28_March_inclass.ipynb",
      "provenance": [],
      "authorship_tag": "ABX9TyOWIryFKnv9KOQXQHkEJLbe",
      "include_colab_link": true
    },
    "kernelspec": {
      "name": "python3",
      "display_name": "Python 3"
    },
    "language_info": {
      "name": "python"
    }
  },
  "cells": [
    {
      "cell_type": "markdown",
      "metadata": {
        "id": "view-in-github",
        "colab_type": "text"
      },
      "source": [
        "<a href=\"https://colab.research.google.com/github/akukudala/Akshitha_690/blob/main/28_March_inclass.ipynb\" target=\"_parent\"><img src=\"https://colab.research.google.com/assets/colab-badge.svg\" alt=\"Open In Colab\"/></a>"
      ]
    },
    {
      "cell_type": "markdown",
      "source": [
        "Random selection of a team"
      ],
      "metadata": {
        "id": "eYcfzUE_1kE_"
      }
    },
    {
      "cell_type": "code",
      "source": [
        "import random\n",
        "team_list=[\"A\",\"B\",\"C\",\"D\"]\n",
        "print(\"Team\",team_list[random.randint(0,3)],\"is randomly selected to present\")"
      ],
      "metadata": {
        "colab": {
          "base_uri": "https://localhost:8080/"
        },
        "id": "6YJRNQJu1jfX",
        "outputId": "626d7f50-670b-4f18-d32d-b5508181709e"
      },
      "execution_count": 2,
      "outputs": [
        {
          "output_type": "stream",
          "name": "stdout",
          "text": [
            "Team A is randomly selected to present\n"
          ]
        }
      ]
    },
    {
      "cell_type": "code",
      "source": [
        "random.choice(team_list)"
      ],
      "metadata": {
        "colab": {
          "base_uri": "https://localhost:8080/",
          "height": 35
        },
        "id": "Cb0ubpSA3K2n",
        "outputId": "8925f336-5479-4840-fb05-4dd31b84d793"
      },
      "execution_count": 3,
      "outputs": [
        {
          "output_type": "execute_result",
          "data": {
            "text/plain": [
              "'C'"
            ],
            "application/vnd.google.colaboratory.intrinsic+json": {
              "type": "string"
            }
          },
          "metadata": {},
          "execution_count": 3
        }
      ]
    },
    {
      "cell_type": "code",
      "execution_count": 10,
      "metadata": {
        "colab": {
          "base_uri": "https://localhost:8080/"
        },
        "id": "0D9KfL5r1QqO",
        "outputId": "0572249c-bd9b-491c-d0dd-0197c21e3d17"
      },
      "outputs": [
        {
          "output_type": "stream",
          "name": "stdout",
          "text": [
            "{'A': 265, 'B': 230, 'C': 257, 'D': 248}\n"
          ]
        }
      ],
      "source": [
        "team_dict={\n",
        "    \"A\":0,\n",
        "    \"B\":0,\n",
        "    \"C\":0,\n",
        "    \"D\":0\n",
        "\n",
        "}\n",
        "for i in range(1000):  # range(start,stop,step) range(0,10,1 increment)\n",
        "\n",
        "    team_dict[random.choice(team_list)]+=1\n",
        "print(team_dict)\n",
        "    "
      ]
    },
    {
      "cell_type": "code",
      "source": [
        "team_dict.keys()"
      ],
      "metadata": {
        "colab": {
          "base_uri": "https://localhost:8080/"
        },
        "id": "NU3aYHGh5JRV",
        "outputId": "bfb303bd-2759-463e-a1bb-0b25085132cf"
      },
      "execution_count": 9,
      "outputs": [
        {
          "output_type": "execute_result",
          "data": {
            "text/plain": [
              "dict_keys(['A', 'B', 'C', 'D'])"
            ]
          },
          "metadata": {},
          "execution_count": 9
        }
      ]
    }
  ]
}