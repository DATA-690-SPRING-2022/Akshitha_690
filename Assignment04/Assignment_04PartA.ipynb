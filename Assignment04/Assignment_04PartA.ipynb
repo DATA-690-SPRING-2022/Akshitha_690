{
  "nbformat": 4,
  "nbformat_minor": 0,
  "metadata": {
    "colab": {
      "name": "Assignment-04PartA.ipynb",
      "provenance": [],
      "collapsed_sections": [],
      "authorship_tag": "ABX9TyNbvDOoh5WspeH8i/YRV9Fb",
      "include_colab_link": true
    },
    "kernelspec": {
      "name": "python3",
      "display_name": "Python 3"
    },
    "language_info": {
      "name": "python"
    }
  },
  "cells": [
    {
      "cell_type": "markdown",
      "metadata": {
        "id": "view-in-github",
        "colab_type": "text"
      },
      "source": [
        "<a href=\"https://colab.research.google.com/github/akukudala/Akshitha_690/blob/main/Assignment04/Assignment_04PartA.ipynb\" target=\"_parent\"><img src=\"https://colab.research.google.com/assets/colab-badge.svg\" alt=\"Open In Colab\"/></a>"
      ]
    },
    {
      "cell_type": "markdown",
      "source": [
        "## Assignment 04 - Part A\n",
        "* Name: Akshitha\n",
        "* Date: 2/25/2022"
      ],
      "metadata": {
        "id": "UD1DsyUuhCJ2"
      }
    },
    {
      "cell_type": "markdown",
      "source": [
        "1. Write code to open the text file census_costs.txt and read all lines into a list named \"line_list\". Print line_list."
      ],
      "metadata": {
        "id": "5MRBUy7qhMg3"
      }
    },
    {
      "cell_type": "code",
      "execution_count": 3,
      "metadata": {
        "colab": {
          "base_uri": "https://localhost:8080/"
        },
        "id": "_pQFshnNg1PL",
        "outputId": "17c91181-4e41-4b8e-f46e-5746e9289a37"
      },
      "outputs": [
        {
          "output_type": "execute_result",
          "data": {
            "text/plain": [
              "['Source: https://www.genealogybranches.com/censuscosts.html\\n',\n",
              " 'Census Year\\tTotal Population\\tCensus Cost\\tAverage Cost Per Person\\n',\n",
              " '1790\\t3,929,214\\t$44,377\\t1.13 cents\\n',\n",
              " '1800\\t5,308,483\\t$66,109\\t1.24 cents\\n',\n",
              " '1810\\t7,239,881\\t$178,445\\t2.46 cents\\n',\n",
              " '1820\\t9,633,822\\t$208,526\\t2.16 cents\\n',\n",
              " '1830\\t12,866,020\\t$378,545\\t2.94 cents\\n',\n",
              " '1840\\t17,069,458\\t$833,371\\t4.88 cents\\n',\n",
              " '1850\\t23,191,876\\t$1,423,351\\t6.14 cents\\n',\n",
              " '1860\\t31,443,321\\t$1,969,377\\t6.26 cents\\n',\n",
              " '1870\\t38,558,371\\t$3,421,198\\t8.87 cents\\n',\n",
              " '1880\\t50,155,783\\t$5,790,678\\t11.54 cents\\n',\n",
              " '1890\\t62,979,766\\t$11,547,127\\t18.33 cents\\n',\n",
              " '1900\\t76,303,387\\t$11,854,000\\t15.54 cents\\n',\n",
              " '1910\\t91,972,266\\t$15,968,000\\t17.07 cents\\n',\n",
              " '1920\\t105,710,620\\t$25,117,000\\t23.76 cents\\n',\n",
              " '1930\\t122,775,046\\t$40,156,000\\t32.71 cents\\n',\n",
              " '1940\\t131,669,275\\t$67,527,000\\t51.29 cents\\n',\n",
              " '1950\\t151,325,798\\t$91,462,000\\t60.44 cents\\n',\n",
              " '1960\\t179,323,175\\t$127,934,000\\t71.34 cents\\n',\n",
              " '1970\\t203,302,031\\t$247,653,000\\t$1.22\\n',\n",
              " '1980\\t226,542,199\\t$1,078,488,000\\t$4.76\\n',\n",
              " '1990\\t248,718,301\\t$2,492,830,000\\t$10.02\\n',\n",
              " '2000\\t281,421,906\\t$4.5 Billion\\t$15.99\\n',\n",
              " '2010*\\t308,745,538\\t$13 Billion\\t$42.11']"
            ]
          },
          "metadata": {},
          "execution_count": 3
        }
      ],
      "source": [
        "with open(\"sample_data/census_costs.txt\",\"r\") as f:\n",
        "    line_list = f.readlines()\n",
        "\n",
        "line_list"
      ]
    },
    {
      "cell_type": "markdown",
      "source": [
        "2. Extract the first two lines and put them in a different list named \"top2_list\". You will need to use them later. Print the top2_list."
      ],
      "metadata": {
        "id": "ZKDJClx8hcUm"
      }
    },
    {
      "cell_type": "code",
      "source": [
        "top2_list = line_list[0:2]\n",
        "top2_list"
      ],
      "metadata": {
        "colab": {
          "base_uri": "https://localhost:8080/"
        },
        "id": "uux2DzY3hflf",
        "outputId": "8fa4bcea-9a1a-4803-bbb2-d2b1affba358"
      },
      "execution_count": 4,
      "outputs": [
        {
          "output_type": "execute_result",
          "data": {
            "text/plain": [
              "['Source: https://www.genealogybranches.com/censuscosts.html\\n',\n",
              " 'Census Year\\tTotal Population\\tCensus Cost\\tAverage Cost Per Person\\n']"
            ]
          },
          "metadata": {},
          "execution_count": 4
        }
      ]
    },
    {
      "cell_type": "markdown",
      "source": [
        "3. Put the rest of the lines (containing useful data elements) in a new list named \"data_list\". Print data_list."
      ],
      "metadata": {
        "id": "lMrUXfRdhi02"
      }
    },
    {
      "cell_type": "code",
      "source": [
        "data_list= line_list[2:]\n",
        "data_list"
      ],
      "metadata": {
        "colab": {
          "base_uri": "https://localhost:8080/"
        },
        "id": "kKBy231-hmSw",
        "outputId": "8002d979-63f3-42a6-e09c-6d73d11095ba"
      },
      "execution_count": 5,
      "outputs": [
        {
          "output_type": "execute_result",
          "data": {
            "text/plain": [
              "['1790\\t3,929,214\\t$44,377\\t1.13 cents\\n',\n",
              " '1800\\t5,308,483\\t$66,109\\t1.24 cents\\n',\n",
              " '1810\\t7,239,881\\t$178,445\\t2.46 cents\\n',\n",
              " '1820\\t9,633,822\\t$208,526\\t2.16 cents\\n',\n",
              " '1830\\t12,866,020\\t$378,545\\t2.94 cents\\n',\n",
              " '1840\\t17,069,458\\t$833,371\\t4.88 cents\\n',\n",
              " '1850\\t23,191,876\\t$1,423,351\\t6.14 cents\\n',\n",
              " '1860\\t31,443,321\\t$1,969,377\\t6.26 cents\\n',\n",
              " '1870\\t38,558,371\\t$3,421,198\\t8.87 cents\\n',\n",
              " '1880\\t50,155,783\\t$5,790,678\\t11.54 cents\\n',\n",
              " '1890\\t62,979,766\\t$11,547,127\\t18.33 cents\\n',\n",
              " '1900\\t76,303,387\\t$11,854,000\\t15.54 cents\\n',\n",
              " '1910\\t91,972,266\\t$15,968,000\\t17.07 cents\\n',\n",
              " '1920\\t105,710,620\\t$25,117,000\\t23.76 cents\\n',\n",
              " '1930\\t122,775,046\\t$40,156,000\\t32.71 cents\\n',\n",
              " '1940\\t131,669,275\\t$67,527,000\\t51.29 cents\\n',\n",
              " '1950\\t151,325,798\\t$91,462,000\\t60.44 cents\\n',\n",
              " '1960\\t179,323,175\\t$127,934,000\\t71.34 cents\\n',\n",
              " '1970\\t203,302,031\\t$247,653,000\\t$1.22\\n',\n",
              " '1980\\t226,542,199\\t$1,078,488,000\\t$4.76\\n',\n",
              " '1990\\t248,718,301\\t$2,492,830,000\\t$10.02\\n',\n",
              " '2000\\t281,421,906\\t$4.5 Billion\\t$15.99\\n',\n",
              " '2010*\\t308,745,538\\t$13 Billion\\t$42.11']"
            ]
          },
          "metadata": {},
          "execution_count": 5
        }
      ]
    },
    {
      "cell_type": "markdown",
      "source": [
        "4. Extract the column \"Census Year\" from data_list and assign them to a list named year_list. Remove the \"*\" from the last element \"2010*\". Print the cleansed year_list."
      ],
      "metadata": {
        "id": "UF8j_AfShq_w"
      }
    },
    {
      "cell_type": "code",
      "source": [
        "year_list = []\n",
        "\n",
        "for line in data_list:\n",
        "    year = line[0:4]\n",
        "    year_list.append(year)\n",
        "\n",
        "print(year_list)"
      ],
      "metadata": {
        "colab": {
          "base_uri": "https://localhost:8080/"
        },
        "id": "v7TbRoCjhvn2",
        "outputId": "3925de65-dd4d-4b80-f123-9534cf9c3f2d"
      },
      "execution_count": 6,
      "outputs": [
        {
          "output_type": "stream",
          "name": "stdout",
          "text": [
            "['1790', '1800', '1810', '1820', '1830', '1840', '1850', '1860', '1870', '1880', '1890', '1900', '1910', '1920', '1930', '1940', '1950', '1960', '1970', '1980', '1990', '2000', '2010']\n"
          ]
        }
      ]
    },
    {
      "cell_type": "markdown",
      "source": [
        "5. Extract the \"Total Population\" column from the data_list and assign them to a list named \"pop_list\". Remove the \",\" from the numbers since Python doesn't recognize them. Print the cleansed \"pop_list\"."
      ],
      "metadata": {
        "id": "AbWzJPydh-If"
      }
    },
    {
      "cell_type": "code",
      "source": [
        "pop_list = []\n",
        "\n",
        "for line in data_list:\n",
        "    part_list = line.split(\"\\t\")\n",
        "    pop = part_list[1]\n",
        "    pop_list.append(pop)\n",
        "\n",
        "print(pop_list)\n",
        "cleansed_pop_list = []\n",
        "\n",
        "for pop in pop_list:\n",
        "    cleansed_pop = pop.replace(\",\", \"\")\n",
        "    cleansed_pop_list.append(int(cleansed_pop))\n",
        "\n",
        "print(cleansed_pop_list)"
      ],
      "metadata": {
        "colab": {
          "base_uri": "https://localhost:8080/"
        },
        "id": "GwKuoDajiDRe",
        "outputId": "55b05ee6-d696-4d4f-e023-d45dabd049e6"
      },
      "execution_count": 7,
      "outputs": [
        {
          "output_type": "stream",
          "name": "stdout",
          "text": [
            "['3,929,214', '5,308,483', '7,239,881', '9,633,822', '12,866,020', '17,069,458', '23,191,876', '31,443,321', '38,558,371', '50,155,783', '62,979,766', '76,303,387', '91,972,266', '105,710,620', '122,775,046', '131,669,275', '151,325,798', '179,323,175', '203,302,031', '226,542,199', '248,718,301', '281,421,906', '308,745,538']\n",
            "[3929214, 5308483, 7239881, 9633822, 12866020, 17069458, 23191876, 31443321, 38558371, 50155783, 62979766, 76303387, 91972266, 105710620, 122775046, 131669275, 151325798, 179323175, 203302031, 226542199, 248718301, 281421906, 308745538]\n"
          ]
        }
      ]
    },
    {
      "cell_type": "markdown",
      "source": [
        "6. Extract the \"Census Cost\" column from the data_list and assign them to a list named \"cost_list\". Remove the \",\", and \"$\", and \"Billion\". Make sure to add the \"0\"s to the numbers from which you removed \"Billion\". Print the cleansed cost_list."
      ],
      "metadata": {
        "id": "LORcFB_UiSxm"
      }
    },
    {
      "cell_type": "code",
      "source": [
        "cost_list = []\n",
        "\n",
        "for line in data_list:\n",
        "    part_list = line.split(\"\\t\")\n",
        "    cost = part_list[2]\n",
        "    cost_list.append(cost)\n",
        "\n",
        "print(cost_list)\n",
        "cleansed_cost_list = []\n",
        "for cost in cost_list:                 # to take third part after the split since it will be total cost\n",
        "    \n",
        "    if \"$\" in cost:\n",
        "        cost = cost.replace(\"$\", \"\")\n",
        "    if \",\" in cost:\n",
        "        cost = cost.replace(\",\", \"\")\n",
        "    if \"Billion\" in cost:\n",
        "        cost = cost.replace(\" Billion\", \"\")\n",
        "        cost = float(cost) * 1000000000\n",
        "    \n",
        "    cleansed_cost_list.append(int(cost))\n",
        "\n",
        "print(cleansed_cost_list)"
      ],
      "metadata": {
        "colab": {
          "base_uri": "https://localhost:8080/"
        },
        "id": "Z4NJlwhyiXoP",
        "outputId": "ecd58743-9342-4ec6-fcd4-228e187389cf"
      },
      "execution_count": 8,
      "outputs": [
        {
          "output_type": "stream",
          "name": "stdout",
          "text": [
            "['$44,377', '$66,109', '$178,445', '$208,526', '$378,545', '$833,371', '$1,423,351', '$1,969,377', '$3,421,198', '$5,790,678', '$11,547,127', '$11,854,000', '$15,968,000', '$25,117,000', '$40,156,000', '$67,527,000', '$91,462,000', '$127,934,000', '$247,653,000', '$1,078,488,000', '$2,492,830,000', '$4.5 Billion', '$13 Billion']\n",
            "[44377, 66109, 178445, 208526, 378545, 833371, 1423351, 1969377, 3421198, 5790678, 11547127, 11854000, 15968000, 25117000, 40156000, 67527000, 91462000, 127934000, 247653000, 1078488000, 2492830000, 4500000000, 13000000000]\n"
          ]
        }
      ]
    },
    {
      "cell_type": "markdown",
      "source": [
        "7. Extract the \"Average Cost per Person\" column from the data_list and assign them to a list named \"avg_list\". Remove the \"cents\", and \"$\". Make sure to divide the numbers in cents by 100 so that all numbers are measured in dollar. Print the cleansed avg_list."
      ],
      "metadata": {
        "id": "dZFDLI4wlRz4"
      }
    },
    {
      "cell_type": "code",
      "source": [
        "avg_cost_list = []\n",
        "\n",
        "for line in data_list:\n",
        "    part_list = line.split(\"\\t\")\n",
        "    cost = part_list[3]\n",
        "    avg_cost_list.append(cost)\n",
        "\n",
        "print(avg_cost_list)\n",
        "cleansed_avg_list = []\n",
        "for avg_cost in avg_cost_list:                 # to take third part after the split since it will be total cost\n",
        "    \n",
        "    if \"$\" in avg_cost:\n",
        "        avg_cost = avg_cost.replace(\"$\", \"\")\n",
        "    if \"\\n\" in avg_cost:\n",
        "        avg_cost = avg_cost.replace(\"\\n\", \"\")\n",
        "    if \"cents\" in avg_cost:\n",
        "        avg_cost = avg_cost.replace(\"cents\", \"\")\n",
        "        avg_cost = float(avg_cost) / 100\n",
        "    \n",
        "    cleansed_avg_list.append(round(float(avg_cost),6))\n",
        "\n",
        "print(cleansed_avg_list)"
      ],
      "metadata": {
        "colab": {
          "base_uri": "https://localhost:8080/"
        },
        "id": "1geDjxVllUKD",
        "outputId": "7255a289-fe99-4857-959a-5fae00f553de"
      },
      "execution_count": 11,
      "outputs": [
        {
          "output_type": "stream",
          "name": "stdout",
          "text": [
            "['1.13 cents\\n', '1.24 cents\\n', '2.46 cents\\n', '2.16 cents\\n', '2.94 cents\\n', '4.88 cents\\n', '6.14 cents\\n', '6.26 cents\\n', '8.87 cents\\n', '11.54 cents\\n', '18.33 cents\\n', '15.54 cents\\n', '17.07 cents\\n', '23.76 cents\\n', '32.71 cents\\n', '51.29 cents\\n', '60.44 cents\\n', '71.34 cents\\n', '$1.22\\n', '$4.76\\n', '$10.02\\n', '$15.99\\n', '$42.11']\n",
            "[0.0113, 0.0124, 0.0246, 0.0216, 0.0294, 0.0488, 0.0614, 0.0626, 0.0887, 0.1154, 0.1833, 0.1554, 0.1707, 0.2376, 0.3271, 0.5129, 0.6044, 0.7134, 1.22, 4.76, 10.02, 15.99, 42.11]\n"
          ]
        }
      ]
    },
    {
      "cell_type": "code",
      "source": [
        "\n",
        "with open(\"census_cost.csv\",'w') as cleansed_file:\n",
        "    for i in top2_list:\n",
        "        cleansed_file.write(i.replace('\\t',','))\n",
        "    for j in range(len(year_list)):\n",
        "        cleansed_file.write(f\"{year_list[j]},{cleansed_pop_list[j]},{cleansed_cost_list[j]},{cleansed_avg_list[j]}\\n\")\n",
        "        "
      ],
      "metadata": {
        "id": "JLFnFZja-VXx"
      },
      "execution_count": 37,
      "outputs": []
    },
    {
      "cell_type": "code",
      "source": [
        "with open(\"census_cost.csv\",\"r\") as f:\n",
        "    line_list2 = f.readlines()\n",
        "\n",
        "line_list2"
      ],
      "metadata": {
        "colab": {
          "base_uri": "https://localhost:8080/"
        },
        "id": "eGgXrHAlCy-i",
        "outputId": "c5cc56db-e054-484a-a1be-81f049a40211"
      },
      "execution_count": 38,
      "outputs": [
        {
          "output_type": "execute_result",
          "data": {
            "text/plain": [
              "['Source: https://www.genealogybranches.com/censuscosts.html\\n',\n",
              " 'Census Year,Total Population,Census Cost,Average Cost Per Person\\n',\n",
              " '1790,3929214,44377,0.0113\\n',\n",
              " '1800,5308483,66109,0.0124\\n',\n",
              " '1810,7239881,178445,0.0246\\n',\n",
              " '1820,9633822,208526,0.0216\\n',\n",
              " '1830,12866020,378545,0.0294\\n',\n",
              " '1840,17069458,833371,0.0488\\n',\n",
              " '1850,23191876,1423351,0.0614\\n',\n",
              " '1860,31443321,1969377,0.0626\\n',\n",
              " '1870,38558371,3421198,0.0887\\n',\n",
              " '1880,50155783,5790678,0.1154\\n',\n",
              " '1890,62979766,11547127,0.1833\\n',\n",
              " '1900,76303387,11854000,0.1554\\n',\n",
              " '1910,91972266,15968000,0.1707\\n',\n",
              " '1920,105710620,25117000,0.2376\\n',\n",
              " '1930,122775046,40156000,0.3271\\n',\n",
              " '1940,131669275,67527000,0.5129\\n',\n",
              " '1950,151325798,91462000,0.6044\\n',\n",
              " '1960,179323175,127934000,0.7134\\n',\n",
              " '1970,203302031,247653000,1.22\\n',\n",
              " '1980,226542199,1078488000,4.76\\n',\n",
              " '1990,248718301,2492830000,10.02\\n',\n",
              " '2000,281421906,4500000000,15.99\\n',\n",
              " '2010,308745538,13000000000,42.11\\n']"
            ]
          },
          "metadata": {},
          "execution_count": 38
        }
      ]
    }
  ]
}